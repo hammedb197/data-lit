{
 "cells": [
  {
   "cell_type": "code",
   "execution_count": 23,
   "metadata": {},
   "outputs": [],
   "source": [
    "import tweepy\n",
    "from tweepy import OAuthHandler\n",
    "import pandas as pd"
   ]
  },
  {
   "cell_type": "code",
   "execution_count": 180,
   "metadata": {},
   "outputs": [],
   "source": [
    "consumerKey = 'XXXXXXXXXXXXXXX'\n",
    "consumerSecret = 'XXXXXXXXXXXXXXXXXXXXXXXXXXXXX'\n",
    "accessToken = 'XXXXXXXXXXXXXXXXXXXXXXXXX'\n",
    "accessTokenSecret = 'XXXXXXXXXXXXXXXXXXXXXXXXXX'\n"
   ]
  },
  {
   "cell_type": "code",
   "execution_count": 181,
   "metadata": {},
   "outputs": [],
   "source": [
    "auth = tweepy.OAuthHandler(consumerKey, consumerSecret)\n",
    "auth.set_access_token(accessToken, accessTokenSecret)\n",
    "api = tweepy.API(auth)"
   ]
  },
  {
   "cell_type": "code",
   "execution_count": 182,
   "metadata": {},
   "outputs": [
    {
     "name": "stdin",
     "output_type": "stream",
     "text": [
      "ENter your brand davido\n",
      "Enter nummber of tweets 200\n"
     ]
    }
   ],
   "source": [
    "searchTweet = input(\"Enter something\")\n",
    "NoOfTweets = int(input(\"Enter number of tweets\"))"
   ]
  },
  {
   "cell_type": "code",
   "execution_count": 209,
   "metadata": {},
   "outputs": [],
   "source": [
    "\n",
    "tweets = tweepy.Cursor(api.search, q=searchTweet).items(NoOfTweets)\n",
    "data=[]"
   ]
  },
  {
   "cell_type": "code",
   "execution_count": 210,
   "metadata": {},
   "outputs": [],
   "source": [
    "import nltk\n",
    "from nltk.tokenize import word_tokenize, TweetTokenizer, sent_tokenize\n",
    "from nltk.stem import WordNetLemmatizer\n",
    "lemma = WordNetLemmatizer()\n",
    "import re\n",
    "from nltk.corpus import stopwords"
   ]
  },
  {
   "cell_type": "code",
   "execution_count": 211,
   "metadata": {},
   "outputs": [],
   "source": [
    "\n",
    "bucket = []\n",
    "cleans = []\n",
    "for tweet in tweets:\n",
    "    if tweet.lang == 'en':\n",
    "        t_tweet = tweet.text\n",
    "        clean_text = ' '.join(re.sub(\"(@[A-Za-z0-9_]+)|(http[:/.A-Za-z0-9]+)|(RT)|(#[A-Za-z0-9_]+)|(\\W)\", \" \", t_tweet).split())\n",
    "        token = sent_tokenize(clean_text)\n",
    "        root_text = [lemma.lemmatize(text) for text in token if text not in stopwords.words('english')]\n",
    "        bucket.append(root_text)\n",
    "\n",
    "# print(bucket)"
   ]
  },
  {
   "cell_type": "code",
   "execution_count": 241,
   "metadata": {},
   "outputs": [],
   "source": [
    "from textblob import TextBlob\n",
    "data = []\n",
    "for text in bucket:\n",
    "    for each_word in text:\n",
    "        analysis = TextBlob(each_word)\n",
    "        if analysis.sentiment.polarity < 0:\n",
    "            polarity = 'Negative'\n",
    "            \n",
    "        else:\n",
    "            polarity = 'Positive'\n",
    "            \n",
    "        save = {}\n",
    "        save['Sentiment'] = polarity\n",
    "        save['Tweet'] = each_word\n",
    "        data.append(save)\n",
    "\n"
   ]
  },
  {
   "cell_type": "code",
   "execution_count": 242,
   "metadata": {},
   "outputs": [],
   "source": [
    "df = pd.DataFrame(data)\n",
    "df.to_csv('davido.csv', index=False)"
   ]
  },
  {
   "cell_type": "code",
   "execution_count": 243,
   "metadata": {},
   "outputs": [
    {
     "data": {
      "text/html": [
       "<div>\n",
       "<style scoped>\n",
       "    .dataframe tbody tr th:only-of-type {\n",
       "        vertical-align: middle;\n",
       "    }\n",
       "\n",
       "    .dataframe tbody tr th {\n",
       "        vertical-align: top;\n",
       "    }\n",
       "\n",
       "    .dataframe thead th {\n",
       "        text-align: right;\n",
       "    }\n",
       "</style>\n",
       "<table border=\"1\" class=\"dataframe\">\n",
       "  <thead>\n",
       "    <tr style=\"text-align: right;\">\n",
       "      <th></th>\n",
       "      <th>Sentiment</th>\n",
       "      <th>Tweet</th>\n",
       "    </tr>\n",
       "  </thead>\n",
       "  <tbody>\n",
       "    <tr>\n",
       "      <th>0</th>\n",
       "      <td>Negative</td>\n",
       "      <td>I hope I m not too late please bless me</td>\n",
       "    </tr>\n",
       "    <tr>\n",
       "      <th>1</th>\n",
       "      <td>Positive</td>\n",
       "      <td>Check mine too please</td>\n",
       "    </tr>\n",
       "    <tr>\n",
       "      <th>2</th>\n",
       "      <td>Positive</td>\n",
       "      <td>I must be the 15th person</td>\n",
       "    </tr>\n",
       "    <tr>\n",
       "      <th>3</th>\n",
       "      <td>Positive</td>\n",
       "      <td>show dem Dm me pls son of mercy</td>\n",
       "    </tr>\n",
       "    <tr>\n",
       "      <th>4</th>\n",
       "      <td>Positive</td>\n",
       "      <td>Make me The One</td>\n",
       "    </tr>\n",
       "    <tr>\n",
       "      <th>5</th>\n",
       "      <td>Positive</td>\n",
       "      <td>I hope you see this</td>\n",
       "    </tr>\n",
       "    <tr>\n",
       "      <th>6</th>\n",
       "      <td>Positive</td>\n",
       "      <td>This is one of my side hustle I grind when I m...</td>\n",
       "    </tr>\n",
       "    <tr>\n",
       "      <th>7</th>\n",
       "      <td>Negative</td>\n",
       "      <td>Yinmu not fair Same girls wey dey yab chioma N...</td>\n",
       "    </tr>\n",
       "    <tr>\n",
       "      <th>8</th>\n",
       "      <td>Positive</td>\n",
       "      <td>Omo Baba olowo for the world</td>\n",
       "    </tr>\n",
       "    <tr>\n",
       "      <th>9</th>\n",
       "      <td>Positive</td>\n",
       "      <td>I m waiting for To Retweet and DM me</td>\n",
       "    </tr>\n",
       "  </tbody>\n",
       "</table>\n",
       "</div>"
      ],
      "text/plain": [
       "  Sentiment                                              Tweet\n",
       "0  Negative            I hope I m not too late please bless me\n",
       "1  Positive                              Check mine too please\n",
       "2  Positive                          I must be the 15th person\n",
       "3  Positive                    show dem Dm me pls son of mercy\n",
       "4  Positive                                    Make me The One\n",
       "5  Positive                                I hope you see this\n",
       "6  Positive  This is one of my side hustle I grind when I m...\n",
       "7  Negative  Yinmu not fair Same girls wey dey yab chioma N...\n",
       "8  Positive                       Omo Baba olowo for the world\n",
       "9  Positive               I m waiting for To Retweet and DM me"
      ]
     },
     "execution_count": 243,
     "metadata": {},
     "output_type": "execute_result"
    }
   ],
   "source": [
    "data = pd.read_csv('davido.csv')\n",
    "data.head(10)"
   ]
  },
  {
   "cell_type": "code",
   "execution_count": 245,
   "metadata": {},
   "outputs": [
    {
     "data": {
      "image/png": "[encoded data removed]",
      "text/plain": [
       "<Figure size 432x288 with 1 Axes>"
      ]
     },
     "metadata": {},
     "output_type": "display_data"
    }
   ],
   "source": [
    "import seaborn as sns\n",
    "import matplotlib.pyplot as plt\n",
    "%matplotlib inline\n",
    "sns.set(style='darkgrid')\n",
    "sns.countplot(x = data['Sentiment'])\n",
    "plt.savefig('plot.jpg')\n",
    "plt.show()\n"
   ]
  },
  {
   "cell_type": "code",
   "execution_count": null,
   "metadata": {},
   "outputs": [],
   "source": []
  }
 ],
 "metadata": {
  "kernelspec": {
   "display_name": "Python 3",
   "language": "python",
   "name": "python3"
  },
  "language_info": {
   "codemirror_mode": {
    "name": "ipython",
    "version": 3
   },
   "file_extension": ".py",
   "mimetype": "text/x-python",
   "name": "python",
   "nbconvert_exporter": "python",
   "pygments_lexer": "ipython3",
   "version": "3.6.5"
  }
 },
 "nbformat": 4,
 "nbformat_minor": 2
}
